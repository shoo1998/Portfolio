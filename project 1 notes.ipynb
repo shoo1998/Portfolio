{
 "cells": [
  {
   "cell_type": "markdown",
   "metadata": {},
   "source": [
    "this codes output put run and its meaning into our dct"
   ]
  },
  {
   "cell_type": "code",
   "execution_count": 1,
   "metadata": {},
   "outputs": [
    {
     "data": {
      "text/plain": [
       "{'run': 'to move swiftly by foot', 'walk': 'to move slowly, leasurely by foot'}"
      ]
     },
     "execution_count": 1,
     "metadata": {},
     "output_type": "execute_result"
    }
   ],
   "source": [
    "dct = {}\n",
    "dct = {\"run\": \"to move swiftly by foot\",\n",
    "      \"walk\" : \"to move slowly, leasurely by foot\"}\n",
    "dct"
   ]
  },
  {
   "cell_type": "markdown",
   "metadata": {},
   "source": [
    "Doesn't look like anything happened when i hit run"
   ]
  },
  {
   "cell_type": "markdown",
   "metadata": {},
   "source": [
    "this output added both run and walk to our dct"
   ]
  },
  {
   "cell_type": "code",
   "execution_count": 2,
   "metadata": {},
   "outputs": [
    {
     "data": {
      "text/plain": [
       "{'run': {}, 'walk': {}}"
      ]
     },
     "execution_count": 2,
     "metadata": {},
     "output_type": "execute_result"
    }
   ],
   "source": [
    "dct = {\"run\" : {},\n",
    "      \"walk\" : {}}\n",
    "dct"
   ]
  },
  {
   "cell_type": "markdown",
   "metadata": {},
   "source": [
    "added a verb meaning and a noun meaning for both run and walk to the dct "
   ]
  },
  {
   "cell_type": "code",
   "execution_count": 3,
   "metadata": {},
   "outputs": [
    {
     "data": {
      "text/plain": [
       "{'run': {'verb': 'to move swiftly by foot',\n",
       "  'noun': 'refers to a period of time whileone was running'},\n",
       " 'walk': {'verb': 'to move slowly, leasurely by foot',\n",
       "  'noun': 'refers to a period of time while one was walking'}}"
      ]
     },
     "execution_count": 3,
     "metadata": {},
     "output_type": "execute_result"
    }
   ],
   "source": [
    "dct = {\"run\": {\"verb\":\"to move swiftly by foot\", \n",
    "               \"noun\":\"refers to a period of time whileone was running\"},\n",
    "       \"walk\" :{\"verb\" : \"to move slowly, leasurely by foot\",\n",
    "                \"noun\": \"refers to a period of time while one was walking\"}}\n",
    "dct"
   ]
  },
  {
   "cell_type": "markdown",
   "metadata": {},
   "source": [
    "made a chart for our dct of both run and walk and the noun nd verb meanings of each word"
   ]
  },
  {
   "cell_type": "code",
   "execution_count": 4,
   "metadata": {
    "scrolled": true
   },
   "outputs": [
    {
     "data": {
      "text/html": [
       "<div>\n",
       "<style scoped>\n",
       "    .dataframe tbody tr th:only-of-type {\n",
       "        vertical-align: middle;\n",
       "    }\n",
       "\n",
       "    .dataframe tbody tr th {\n",
       "        vertical-align: top;\n",
       "    }\n",
       "\n",
       "    .dataframe thead th {\n",
       "        text-align: right;\n",
       "    }\n",
       "</style>\n",
       "<table border=\"1\" class=\"dataframe\">\n",
       "  <thead>\n",
       "    <tr style=\"text-align: right;\">\n",
       "      <th></th>\n",
       "      <th>run</th>\n",
       "      <th>walk</th>\n",
       "    </tr>\n",
       "  </thead>\n",
       "  <tbody>\n",
       "    <tr>\n",
       "      <th>verb</th>\n",
       "      <td>to move swiftly by foot</td>\n",
       "      <td>to move slowly, leasurely by foot</td>\n",
       "    </tr>\n",
       "    <tr>\n",
       "      <th>noun</th>\n",
       "      <td>refers to a period of time whileone was running</td>\n",
       "      <td>refers to a period of time while one was walking</td>\n",
       "    </tr>\n",
       "  </tbody>\n",
       "</table>\n",
       "</div>"
      ],
      "text/plain": [
       "                                                  run  \\\n",
       "verb                          to move swiftly by foot   \n",
       "noun  refers to a period of time whileone was running   \n",
       "\n",
       "                                                  walk  \n",
       "verb                 to move slowly, leasurely by foot  \n",
       "noun  refers to a period of time while one was walking  "
      ]
     },
     "execution_count": 4,
     "metadata": {},
     "output_type": "execute_result"
    }
   ],
   "source": [
    "import pandas as pd\n",
    "df = pd.DataFrame(dct)\n",
    "df"
   ]
  },
  {
   "cell_type": "markdown",
   "metadata": {},
   "source": [
    "started a dct for our class"
   ]
  },
  {
   "cell_type": "code",
   "execution_count": 5,
   "metadata": {},
   "outputs": [
    {
     "data": {
      "text/plain": [
       "{'Tyler': {},\n",
       " 'Emmanuel': {},\n",
       " 'Amanda': {},\n",
       " 'Logan': {},\n",
       " 'Connor': {},\n",
       " 'Dylan': {},\n",
       " 'Gwen': {},\n",
       " 'Jack': {},\n",
       " 'Ben': {},\n",
       " 'James': {}}"
      ]
     },
     "execution_count": 5,
     "metadata": {},
     "output_type": "execute_result"
    }
   ],
   "source": [
    "dct = {\"Tyler\": {},\n",
    "       \"Emmanuel\": {},\n",
    "       \"Amanda\":{}, \n",
    "       \"Logan\":{},\n",
    "       \"Connor\":{}, \n",
    "       \"Dylan\":{},\n",
    "       \"Gwen\":{}, \n",
    "       \"Jack\":{}, \n",
    "       \"Ben\":{},\n",
    "       \"James\":{}}\n",
    "dct"
   ]
  },
  {
   "cell_type": "markdown",
   "metadata": {},
   "source": [
    "added some infor to tyler in our new class dct"
   ]
  },
  {
   "cell_type": "code",
   "execution_count": 6,
   "metadata": {},
   "outputs": [
    {
     "data": {
      "text/plain": [
       "{'Tyler': {'Age': 21, 'Interesting Fact': 'I am left-handed / ambidextrious!'},\n",
       " 'Emmanuel': {},\n",
       " 'Amanda': {},\n",
       " 'Logan': {},\n",
       " 'Connor': {},\n",
       " 'Dylan': {},\n",
       " 'Gwen': {},\n",
       " 'Jack': {},\n",
       " 'Ben': {},\n",
       " 'James': {}}"
      ]
     },
     "execution_count": 6,
     "metadata": {},
     "output_type": "execute_result"
    }
   ],
   "source": [
    "dct = {\"Tyler\": {\"Age\":21, \"Interesting Fact\":\"I am left-handed / ambidextrious!\"},\n",
    "       \"Emmanuel\": {},\n",
    "       \"Amanda\":{}, \n",
    "       \"Logan\":{},\n",
    "       \"Connor\":{}, \n",
    "       \"Dylan\":{},\n",
    "       \"Gwen\":{}, \n",
    "       \"Jack\":{}, \n",
    "       \"Ben\":{},\n",
    "       \"James\":{}}\n",
    "\n",
    "dct"
   ]
  },
  {
   "cell_type": "markdown",
   "metadata": {},
   "source": [
    "filled in the rest of the peoples info to the dct"
   ]
  },
  {
   "cell_type": "code",
   "execution_count": 7,
   "metadata": {},
   "outputs": [
    {
     "data": {
      "text/plain": [
       "{'Tyler': {'Age': 21, 'Interesting Fact': 'I am left-handed / ambidextrious!'},\n",
       " 'Emmanuel': {'Age': 32,\n",
       "  'Interesting Fact': \"I have 7 degrees!!! And I'm earning the M.S. Data Analytics\"},\n",
       " 'Amanda': {},\n",
       " 'Logan': {'Age': 22, 'Interesting Fact': 'I fight fires!'},\n",
       " 'Connor': {'Age': 21, 'Interesting Fact': 'I like to play tennis!'},\n",
       " 'Dylan': {'Age': 21, 'Interesting Fact': 'I am a triplet!'},\n",
       " 'Gwen': {'Age': 23,\n",
       "  'Interesting Fact': 'I bought my first cow when I was 10 years old!'},\n",
       " 'Jack': {'Age': 21, 'Interesting Fact': 'I have never broken a bone!'},\n",
       " 'Ben': {'Age': 23, 'Interesting Fact': 'I like basketball!'},\n",
       " 'James': {'Age': 26, 'Interesting Fact': 'I am from Bejou!'}}"
      ]
     },
     "execution_count": 7,
     "metadata": {},
     "output_type": "execute_result"
    }
   ],
   "source": [
    "dct[\"Emmanuel\"][\"Age\"] = 32\n",
    "dct[\"Emmanuel\"][\"Interesting Fact\"] = \"I have 7 degrees!!! And I'm earning the M.S. Data Analytics\"\n",
    "dct[\"Dylan\"][\"Age\"] = 21\n",
    "dct[\"Dylan\"][\"Interesting Fact\"] = \"I am a triplet!\"\n",
    "dct[\"Jack\"][\"Age\"] = 21\n",
    "dct[\"Jack\"][\"Interesting Fact\"] = \"I have never broken a bone!\" \n",
    "dct[\"Logan\"][\"Age\"] = 22\n",
    "dct[\"Logan\"][\"Interesting Fact\"] = \"I fight fires!\"\n",
    "dct[\"Gwen\"][\"Age\"] = 23\n",
    "dct[\"Gwen\"][\"Interesting Fact\"] = \"I bought my first cow when I was 10 years old!\"\n",
    "dct[\"James\"][\"Age\"] = 26\n",
    "dct[\"James\"][\"Interesting Fact\"] = \"I am from Bejou!\"\n",
    "dct[\"Ben\"][\"Age\"] = 23\n",
    "dct[\"Ben\"][\"Interesting Fact\"] = \"I like basketball!\"\n",
    "dct[\"Connor\"][\"Age\"] = 21\n",
    "dct[\"Connor\"][\"Interesting Fact\"] = \"I like to play tennis!\"\n",
    "\n",
    "dct"
   ]
  },
  {
   "cell_type": "markdown",
   "metadata": {},
   "source": [
    "not sure how to define \"pd\" or make it but i know that this step was supposed to make all of the class dct into a chart for each person, their age and their interesting fact."
   ]
  },
  {
   "cell_type": "code",
   "execution_count": 8,
   "metadata": {},
   "outputs": [
    {
     "data": {
      "text/html": [
       "<div>\n",
       "<style scoped>\n",
       "    .dataframe tbody tr th:only-of-type {\n",
       "        vertical-align: middle;\n",
       "    }\n",
       "\n",
       "    .dataframe tbody tr th {\n",
       "        vertical-align: top;\n",
       "    }\n",
       "\n",
       "    .dataframe thead th {\n",
       "        text-align: right;\n",
       "    }\n",
       "</style>\n",
       "<table border=\"1\" class=\"dataframe\">\n",
       "  <thead>\n",
       "    <tr style=\"text-align: right;\">\n",
       "      <th></th>\n",
       "      <th>Tyler</th>\n",
       "      <th>Emmanuel</th>\n",
       "      <th>Amanda</th>\n",
       "      <th>Logan</th>\n",
       "      <th>Connor</th>\n",
       "      <th>Dylan</th>\n",
       "      <th>Gwen</th>\n",
       "      <th>Jack</th>\n",
       "      <th>Ben</th>\n",
       "      <th>James</th>\n",
       "    </tr>\n",
       "  </thead>\n",
       "  <tbody>\n",
       "    <tr>\n",
       "      <th>Age</th>\n",
       "      <td>21</td>\n",
       "      <td>32</td>\n",
       "      <td>NaN</td>\n",
       "      <td>22</td>\n",
       "      <td>21</td>\n",
       "      <td>21</td>\n",
       "      <td>23</td>\n",
       "      <td>21</td>\n",
       "      <td>23</td>\n",
       "      <td>26</td>\n",
       "    </tr>\n",
       "    <tr>\n",
       "      <th>Interesting Fact</th>\n",
       "      <td>I am left-handed / ambidextrious!</td>\n",
       "      <td>I have 7 degrees!!! And I'm earning the M.S. D...</td>\n",
       "      <td>NaN</td>\n",
       "      <td>I fight fires!</td>\n",
       "      <td>I like to play tennis!</td>\n",
       "      <td>I am a triplet!</td>\n",
       "      <td>I bought my first cow when I was 10 years old!</td>\n",
       "      <td>I have never broken a bone!</td>\n",
       "      <td>I like basketball!</td>\n",
       "      <td>I am from Bejou!</td>\n",
       "    </tr>\n",
       "  </tbody>\n",
       "</table>\n",
       "</div>"
      ],
      "text/plain": [
       "                                              Tyler  \\\n",
       "Age                                              21   \n",
       "Interesting Fact  I am left-handed / ambidextrious!   \n",
       "\n",
       "                                                           Emmanuel  Amanda  \\\n",
       "Age                                                              32     NaN   \n",
       "Interesting Fact  I have 7 degrees!!! And I'm earning the M.S. D...     NaN   \n",
       "\n",
       "                           Logan                  Connor            Dylan  \\\n",
       "Age                           22                      21               21   \n",
       "Interesting Fact  I fight fires!  I like to play tennis!  I am a triplet!   \n",
       "\n",
       "                                                            Gwen  \\\n",
       "Age                                                           23   \n",
       "Interesting Fact  I bought my first cow when I was 10 years old!   \n",
       "\n",
       "                                         Jack                 Ben  \\\n",
       "Age                                        21                  23   \n",
       "Interesting Fact  I have never broken a bone!  I like basketball!   \n",
       "\n",
       "                             James  \n",
       "Age                             26  \n",
       "Interesting Fact  I am from Bejou!  "
      ]
     },
     "execution_count": 8,
     "metadata": {},
     "output_type": "execute_result"
    }
   ],
   "source": [
    "df = pd.DataFrame(dct)\n",
    "df"
   ]
  },
  {
   "cell_type": "markdown",
   "metadata": {},
   "source": [
    "hw1 part 2"
   ]
  },
  {
   "cell_type": "markdown",
   "metadata": {},
   "source": [
    "was supposed to make a dct for the 10 econ department staff members i chose that were not done already. not sure what happened"
   ]
  },
  {
   "cell_type": "code",
   "execution_count": 16,
   "metadata": {},
   "outputs": [
    {
     "ename": "SyntaxError",
     "evalue": "invalid syntax (<ipython-input-16-ded1e552f94b>, line 3)",
     "output_type": "error",
     "traceback": [
      "\u001b[0;36m  File \u001b[0;32m\"<ipython-input-16-ded1e552f94b>\"\u001b[0;36m, line \u001b[0;32m3\u001b[0m\n\u001b[0;31m    dct = {\"Tim Petry\": {\"Website\": \"https://www.ndsu.edu/agecon/faculty/petry/\"\u001b[0m\n\u001b[0m    ^\u001b[0m\n\u001b[0;31mSyntaxError\u001b[0m\u001b[0;31m:\u001b[0m invalid syntax\n"
     ]
    }
   ],
   "source": [
    "dct = {}\n",
    "dct = {[\"Raymond March\"]: [\"Website\":\"https://www.ndsu.edu/centers/pcpe/about/directory/raymond_march/\"],[\"Areas of Specialization\"]: \"public and private provision and governance of health care in the United States, particularly in pharmaceutical markets.\",\"Bio\":\"Raymond is also a research fellow at the Independent Institute and the director of FDAReview.org, an educational research and communications project on the U.S. Food and Drug Administration (FDA). He regularly blogs on health policy at The Beacon. Raymond resides in Fargo with his wife, Amy, daughter Tinsley, son Grant, and two ill-behaved cats\"}\n",
    "dct = {\"Tim Petry\": {\"Website\": \"https://www.ndsu.edu/agecon/faculty/petry/\"\n",
    "                     \"Areas of Specialization\": \"Agricultural Economics\", \n",
    "                     \"Bio\":\"Tim Petry was raised on a livestock ranch in Northwestern North Dakota. He graduated from North Dakota State University with a major in Agricultural Economics in 1969 and served two years in the US Army. Petry returned to NDSU and completed a Master’s Degree in Agricultural Economics with an agricultural marketing emphasis in1973.\"}       \n",
    "dct = {\"Xudong Rao\": {\"Website\":\"https://www.ndsu.edu/agecon/faculty/rao/\" , \"Areas of Specialization\": \"Farm and Agribusiness Management, Risk Analysis, Efficiency and Productivity, Technology Adoption, Food and Agricultural Policy, International Agricultural Development\", \"Bio\":\"unknown\"}}\n",
    "dct = {\"David Ripplinger\": {\"Website\":\"https://www.ndsu.edu/agecon/faculty/ripplinger/\", \"Areas of Specialization\": \"Transportation and Logistics, Agricultural Economics\", \"Bio\":\"unknown\"}}\n",
    "dct = {\"Andrew Swenson\": {\"Website\":\"https://www.ndsu.edu/agecon/faculty/swenson/\", \"Areas of Specialization\": \"Economics,Geography,Agriculture Economics\", \"Bio\":\"unknown\"}}\n",
    "dct = {\"Zachary Machunda\": {\"Website\":\"https://www.ndsu.edu/agecon/faculty/machunda/\", \"Areas of Specialization\": \"Economic Geography, Policy Analysis, Labor Economics, Monetary Economics and Development Economics, Economics and Education\", \"Bio\":\"Unknown\"},}\n",
    "dcy = {\"Dragan Miljkovic\": {\"Website\":\"https://www.ndsu.edu/agecon/faculty/miljkovic/\", \"Areas of Specialization\": \"Economics, Agricultural Economics\", \"Bio\":\"un known\"}}\n",
    "dct = {\"Frayne Olson\": {\"Website\":\"https://www.ndsu.edu/agecon/faculty/olson/\", \"Areas of Specialization\": \"Crop Economist/Marketing\", \"Bio\":\"Unknown\"}}\n",
    "dct = {\"Robert Hearne\": {\"Website\":\"https://www.ndsu.edu/agecon/faculty/hearne/\", \"Areas of Specialization\": \"Agricultural and Applied Economics\", \"Bio\":\"Dr. Bob Hearne has been in the Department of Agribusiness and Applied Economics since 2002.   His research focuses on water resources management institutions, water markets, protected area management, and the economic valuation of environmental goods and services.  He has professional experience in Europe, Asia, Latin America, and Asia. \"}}\n",
    "dct"
   ]
  },
  {
   "cell_type": "markdown",
   "metadata": {},
   "source": [
    "was supposed to make a table for the chosen econ deparment staff with their websites, specializations, and bios"
   ]
  },
  {
   "cell_type": "code",
   "execution_count": null,
   "metadata": {},
   "outputs": [],
   "source": [
    "faculty_df = pd.DataFrame(faculty_dict)\n",
    "# to save a dictionary as a dataframe, pass the dictionary to pd.DataFrame()\n",
    "faculty_df.to_csv(\"NDSUAAEFacultyInfo.csv\")\n",
    "faculty_df"
   ]
  },
  {
   "cell_type": "markdown",
   "metadata": {},
   "source": []
  },
  {
   "cell_type": "markdown",
   "metadata": {},
   "source": []
  },
  {
   "cell_type": "markdown",
   "metadata": {},
   "source": [
    "homework 1 part 1"
   ]
  },
  {
   "cell_type": "code",
   "execution_count": 1,
   "metadata": {},
   "outputs": [
    {
     "data": {
      "text/plain": [
       "{'name': 'logan schumacher',\n",
       " 'major/minor': 'finance/econ.',\n",
       " 'reason for taking this class': 'you told me this could be a good class to develop some useful skills for the future',\n",
       " ' my plans for after ndsu': 'are to get a job in a bank to start building experience'}"
      ]
     },
     "execution_count": 1,
     "metadata": {},
     "output_type": "execute_result"
    }
   ],
   "source": [
    "dct = {}\n",
    "dct = {\"name\": \"logan schumacher\", \n",
    "       \"major/minor\":\n",
    "    \"finance/econ.\", \n",
    "       \"reason for taking this class\": \"you told me this could be a good class to develop some useful skills for the future\",\n",
    "       \" my plans for after ndsu\" : \"are to get a job in a bank to start building experience\"}\n",
    "dct"
   ]
  },
  {
   "cell_type": "code",
   "execution_count": null,
   "metadata": {},
   "outputs": [],
   "source": []
  }
 ],
 "metadata": {
  "kernelspec": {
   "display_name": "Python 3",
   "language": "python",
   "name": "python3"
  },
  "language_info": {
   "codemirror_mode": {
    "name": "ipython",
    "version": 3
   },
   "file_extension": ".py",
   "mimetype": "text/x-python",
   "name": "python",
   "nbconvert_exporter": "python",
   "pygments_lexer": "ipython3",
   "version": "3.8.3"
  }
 },
 "nbformat": 4,
 "nbformat_minor": 4
}
