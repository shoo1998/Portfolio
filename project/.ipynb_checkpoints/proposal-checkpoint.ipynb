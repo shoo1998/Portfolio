{
 "cells": [
  {
   "cell_type": "markdown",
   "metadata": {},
   "source": [
    "My class project will be a program that is meant to show the data for how beneficial it is to enter the market at a younger age. I will be doing this by using a Monte Carlo simulation to have it show the possibilities for early investors and late investors with a group of stocks. I will be contacting a financial advisor to get a list of common stock the people invest in. this information is needed for the program. I will then show the rates of return of both early and late investors. I will be also adding money to both early and late investors supposed portfolios each year. The early investor will be adding half of what the late investor will be adding each year. I will run each simulation for a different number of years, the early investors will be simulated for double the amount of time the late investors will be simulated."
   ]
  },
  {
   "cell_type": "markdown",
   "metadata": {},
   "source": [
    "this is a very basic example of the monte carlo simulation"
   ]
  },
  {
   "cell_type": "code",
   "execution_count": null,
   "metadata": {},
   "outputs": [],
   "source": [
    "%matplotlib inline\n",
    "from scipy import random\n",
    "import numpy as np\n",
    "import matplotlib.pyplot as plt\n",
    "\n",
    "a = 0\n",
    "b = np.pi #limits of integration\n",
    "N = 1000\n",
    "xrand = np.zeros(N)\n",
    "\n",
    "for i in range(len(xrand)):\n",
    "    xrand[i]= random.uniform(a,b)\n",
    "\n",
    "def func(x):\n",
    "    return np.sin(x)\n",
    "\n",
    "integral = 0.0\n",
    "\n",
    "for i in range(N):\n",
    "    integral += func(xrand[i])\n",
    "    \n",
    "answer = (b-a)/float(N)*integral\n",
    "\n",
    "\n",
    "areas = []\n",
    "\n",
    "for i in range (N):\n",
    "    xrand = np.zeros(N)\n",
    "\n",
    "    for i in range(len(xrand)):\n",
    "        xrand[i]= random.uniform(a,b)\n",
    "        integral = 0.0\n",
    "\n",
    "    for i in range(N):\n",
    "        integral += func(xrand[i])\n",
    "    \n",
    "    answer = (b-a)/float(N)*integral\n",
    "    areas.append(answer)\n",
    "plt.title(\"Distribution of areas calculated\")\n",
    "plt.hist(areas,bins =30, ec = \"black\")\n",
    "plt.xlabel(\"areas\")\n",
    "\n"
   ]
  },
  {
   "cell_type": "markdown",
   "metadata": {},
   "source": [
    "the lines of code below is a small sample of code that is very similar to the code i will use for the project itself\n",
    "\n",
    "we first have to import the data library"
   ]
  },
  {
   "cell_type": "code",
   "execution_count": 26,
   "metadata": {},
   "outputs": [
    {
     "name": "stdout",
     "output_type": "stream",
     "text": [
      "Requirement already satisfied: PyPortfolioOpt in /Users/shoo/opt/anaconda3/lib/python3.8/site-packages (1.2.6)\n",
      "Requirement already satisfied: numpy<2.0,>=1.12 in /Users/shoo/opt/anaconda3/lib/python3.8/site-packages (from PyPortfolioOpt) (1.18.5)\n",
      "Requirement already satisfied: pandas>=0.19 in /Users/shoo/opt/anaconda3/lib/python3.8/site-packages (from PyPortfolioOpt) (1.0.5)\n",
      "Requirement already satisfied: cvxpy<2.0,>=1.0 in /Users/shoo/opt/anaconda3/lib/python3.8/site-packages (from PyPortfolioOpt) (1.1.6)\n",
      "Requirement already satisfied: scipy<2.0,>=1.3 in /Users/shoo/opt/anaconda3/lib/python3.8/site-packages (from PyPortfolioOpt) (1.5.0)\n",
      "Requirement already satisfied: cvxopt<2.0,>=1.2 in /Users/shoo/opt/anaconda3/lib/python3.8/site-packages (from PyPortfolioOpt) (1.2.5)\n",
      "Requirement already satisfied: pytz>=2017.2 in /Users/shoo/opt/anaconda3/lib/python3.8/site-packages (from pandas>=0.19->PyPortfolioOpt) (2020.1)\n",
      "Requirement already satisfied: python-dateutil>=2.6.1 in /Users/shoo/opt/anaconda3/lib/python3.8/site-packages (from pandas>=0.19->PyPortfolioOpt) (2.8.1)\n",
      "Requirement already satisfied: scs>=1.1.6 in /Users/shoo/opt/anaconda3/lib/python3.8/site-packages (from cvxpy<2.0,>=1.0->PyPortfolioOpt) (2.1.2)\n",
      "Requirement already satisfied: osqp>=0.4.1 in /Users/shoo/opt/anaconda3/lib/python3.8/site-packages (from cvxpy<2.0,>=1.0->PyPortfolioOpt) (0.6.1)\n",
      "Requirement already satisfied: ecos>=2 in /Users/shoo/opt/anaconda3/lib/python3.8/site-packages (from cvxpy<2.0,>=1.0->PyPortfolioOpt) (2.0.7.post1)\n",
      "Requirement already satisfied: six>=1.5 in /Users/shoo/opt/anaconda3/lib/python3.8/site-packages (from python-dateutil>=2.6.1->pandas>=0.19->PyPortfolioOpt) (1.15.0)\n",
      "Requirement already satisfied: future in /Users/shoo/opt/anaconda3/lib/python3.8/site-packages (from osqp>=0.4.1->cvxpy<2.0,>=1.0->PyPortfolioOpt) (0.18.2)\n"
     ]
    }
   ],
   "source": [
    "import matplotlib.pyplot as plt\n",
    "import numpy as np\n",
    "import pandas as pd\n",
    "import pandas_datareader as web\n",
    "from matplotlib.ticker import FuncFormatter\n",
    "!pip install PyPortfolioOpt\n",
    "#Installing the Portfolio Optimzation Library\n",
    "from pypfopt.efficient_frontier import EfficientFrontier\n",
    "from pypfopt import risk_models\n",
    "from pypfopt import expected_returns\n",
    "from matplotlib.ticker import FuncFormatter"
   ]
  },
  {
   "cell_type": "markdown",
   "metadata": {},
   "source": [
    "next we choose which stocks we wanna run the simulation with in this case we selected these seven (google, facebook, apple, netflex, amazon, tesla, and microsoft) this code then prints the stock info below from june 20th 2018 to june 20 2020."
   ]
  },
  {
   "cell_type": "code",
   "execution_count": 54,
   "metadata": {},
   "outputs": [
    {
     "name": "stdout",
     "output_type": "stream",
     "text": [
      "                  GOOGL          FB       AAPL        NFLX         AMZN  \\\n",
      "Date                                                                      \n",
      "2020-06-15  1420.739990  232.500000  85.747498  425.500000  2572.679932   \n",
      "2020-06-16  1446.469971  235.649994  88.019997  436.130005  2615.270020   \n",
      "2020-06-17  1452.540039  235.529999  87.897499  447.769989  2640.979980   \n",
      "2020-06-18  1434.119995  235.940002  87.932503  449.869995  2653.979980   \n",
      "2020-06-19  1424.640015  238.789993  87.430000  453.720001  2675.010010   \n",
      "\n",
      "                  TSLA        MSFT  \n",
      "Date                                \n",
      "2020-06-15  198.179993  188.940002  \n",
      "2020-06-16  196.425995  193.570007  \n",
      "2020-06-17  198.358002  194.240005  \n",
      "2020-06-18  200.792007  196.320007  \n",
      "2020-06-19  200.179993  195.149994  \n"
     ]
    }
   ],
   "source": [
    "#Portfolio Optimzation Library\n",
    "from pypfopt.efficient_frontier import EfficientFrontier\n",
    "from pypfopt import risk_models, expected_returns,\\\n",
    "    objective_functions, base_optimizer\n",
    "tickers = [\"GOOGL\", \"FB\", \"AAPL\", \"NFLX\", \"AMZN\", \"TSLA\", \"MSFT\"]\n",
    "thelen = len(tickers)\n",
    "num_stocks = len(tickers)\n",
    "data_dict = {}\n",
    "for stock in tickers:\n",
    "    data_dict[stock]= web.DataReader(stock, start = \"2018-06-20\",\n",
    "            end = \"2020-06-20\", data_source = \"yahoo\")\n",
    "\n",
    "# took a different path than montecarlo walkthrough    \n",
    "df_stocks = pd.concat([val[\"Close\"] for val in data_dict.values()], \n",
    "                      keys = data_dict.keys(), axis = 1)\n",
    "\n",
    "print(df_stocks.tail())\n",
    "\n"
   ]
  },
  {
   "cell_type": "markdown",
   "metadata": {},
   "source": [
    "the next line of code calculates the mu or mean of the historical returns, and sigma or standard deveation of the selected seven stocks along with making a suggestion of how much of a person portfolio should be invested in each of the seven companies"
   ]
  },
  {
   "cell_type": "code",
   "execution_count": 29,
   "metadata": {},
   "outputs": [
    {
     "name": "stdout",
     "output_type": "stream",
     "text": [
      "mu: GOOGL    0.097094\n",
      "FB       0.087438\n",
      "AAPL     0.370226\n",
      "NFLX     0.043488\n",
      "AMZN     0.236850\n",
      "TSLA     0.663979\n",
      "MSFT     0.384974\n",
      "dtype: float64\n",
      "sigma           GOOGL        FB      AAPL      NFLX      AMZN      TSLA      MSFT\n",
      "GOOGL  0.102003  0.088354  0.087528  0.078408  0.075851  0.085214  0.089202\n",
      "FB     0.088354  0.149885  0.089854  0.082094  0.082178  0.088838  0.089859\n",
      "AAPL   0.087528  0.089854  0.129548  0.082449  0.081203  0.101102  0.099132\n",
      "NFLX   0.078408  0.082094  0.082449  0.180431  0.096528  0.103194  0.088270\n",
      "AMZN   0.075851  0.082178  0.081203  0.096528  0.111457  0.083855  0.084056\n",
      "TSLA   0.085214  0.088838  0.101102  0.103194  0.083855  0.477011  0.101960\n",
      "MSFT   0.089202  0.089859  0.099132  0.088270  0.084056  0.101960  0.115103\n",
      "ef: <pypfopt.efficient_frontier.EfficientFrontier object at 0x7f9b2f005df0>\n",
      "sharpe_pfolio: OrderedDict([('GOOGL', 0.0), ('FB', 0.0), ('AAPL', 0.1702378806978064), ('NFLX', 0.0), ('AMZN', 0.0), ('TSLA', 0.2422702026507318), ('MSFT', 0.5874919166514617)])\n",
      "sharpe_pwt: OrderedDict([('GOOGL', 0.0), ('FB', 0.0), ('AAPL', 0.17024), ('NFLX', 0.0), ('AMZN', 0.0), ('TSLA', 0.24227), ('MSFT', 0.58749)])\n"
     ]
    }
   ],
   "source": [
    "# next, calculate expected returns and sigma\n",
    "mu = expected_returns.mean_historical_return(df_stocks)\n",
    "# Sample Variance of Portfolio\n",
    "sigma = risk_models.sample_cov(df_stocks)\n",
    "\n",
    "print(\"mu:\", mu)\n",
    "print(\"sigma\", sigma)\n",
    "\n",
    "# Max Sharpe Ratio - Tangent to the EF\n",
    "# calculate optimal weights for each stock in portfolio\n",
    "# negative weights allow for shorts\n",
    "ef = EfficientFrontier(mu, sigma, weight_bounds = (0,1))\n",
    "sharpe_pfolio = ef.max_sharpe()\n",
    "\n",
    "# make sure weights are positive or 0\n",
    "sharpe_pwt = ef.clean_weights()\n",
    "print(\"ef:\", ef)#, sep = \"\\n\")\n",
    "print(\"sharpe_pfolio:\", sharpe_pfolio)\n",
    "print(\"sharpe_pwt:\", sharpe_pwt)"
   ]
  },
  {
   "cell_type": "markdown",
   "metadata": {},
   "source": [
    "Converts dictionary to list of asset weights of the max sharpe ratio portfolio"
   ]
  },
  {
   "cell_type": "code",
   "execution_count": 30,
   "metadata": {},
   "outputs": [],
   "source": [
    "#VaR Calculation\n",
    "ticker_rx2 = []\n",
    "sh_wt = list(sharpe_pwt.values())\n",
    "sh_wt=np.array(sh_wt)"
   ]
  },
  {
   "cell_type": "markdown",
   "metadata": {},
   "source": [
    "prints list made in last code"
   ]
  },
  {
   "cell_type": "code",
   "execution_count": 33,
   "metadata": {},
   "outputs": [
    {
     "data": {
      "text/html": [
       "<div>\n",
       "<style scoped>\n",
       "    .dataframe tbody tr th:only-of-type {\n",
       "        vertical-align: middle;\n",
       "    }\n",
       "\n",
       "    .dataframe tbody tr th {\n",
       "        vertical-align: top;\n",
       "    }\n",
       "\n",
       "    .dataframe thead th {\n",
       "        text-align: right;\n",
       "    }\n",
       "</style>\n",
       "<table border=\"1\" class=\"dataframe\">\n",
       "  <thead>\n",
       "    <tr style=\"text-align: right;\">\n",
       "      <th></th>\n",
       "      <th>GOOGL</th>\n",
       "      <th>FB</th>\n",
       "      <th>AAPL</th>\n",
       "      <th>NFLX</th>\n",
       "      <th>AMZN</th>\n",
       "      <th>TSLA</th>\n",
       "      <th>MSFT</th>\n",
       "    </tr>\n",
       "    <tr>\n",
       "      <th>Date</th>\n",
       "      <th></th>\n",
       "      <th></th>\n",
       "      <th></th>\n",
       "      <th></th>\n",
       "      <th></th>\n",
       "      <th></th>\n",
       "      <th></th>\n",
       "    </tr>\n",
       "  </thead>\n",
       "  <tbody>\n",
       "    <tr>\n",
       "      <th>2018-06-20</th>\n",
       "      <td>NaN</td>\n",
       "      <td>NaN</td>\n",
       "      <td>NaN</td>\n",
       "      <td>NaN</td>\n",
       "      <td>NaN</td>\n",
       "      <td>NaN</td>\n",
       "      <td>NaN</td>\n",
       "    </tr>\n",
       "    <tr>\n",
       "      <th>2018-06-21</th>\n",
       "      <td>0.987644</td>\n",
       "      <td>0.997525</td>\n",
       "      <td>0.994424</td>\n",
       "      <td>0.996833</td>\n",
       "      <td>0.988652</td>\n",
       "      <td>0.959389</td>\n",
       "      <td>0.992834</td>\n",
       "    </tr>\n",
       "    <tr>\n",
       "      <th>2018-06-22</th>\n",
       "      <td>0.987518</td>\n",
       "      <td>0.998713</td>\n",
       "      <td>0.991528</td>\n",
       "      <td>0.986395</td>\n",
       "      <td>0.980338</td>\n",
       "      <td>0.921070</td>\n",
       "      <td>0.985668</td>\n",
       "    </tr>\n",
       "    <tr>\n",
       "      <th>2018-06-25</th>\n",
       "      <td>0.962173</td>\n",
       "      <td>0.972030</td>\n",
       "      <td>0.976783</td>\n",
       "      <td>0.922545</td>\n",
       "      <td>0.950328</td>\n",
       "      <td>0.919358</td>\n",
       "      <td>0.965839</td>\n",
       "    </tr>\n",
       "    <tr>\n",
       "      <th>2018-06-26</th>\n",
       "      <td>0.956548</td>\n",
       "      <td>0.985149</td>\n",
       "      <td>0.988901</td>\n",
       "      <td>0.958321</td>\n",
       "      <td>0.966293</td>\n",
       "      <td>0.944178</td>\n",
       "      <td>0.972612</td>\n",
       "    </tr>\n",
       "    <tr>\n",
       "      <th>...</th>\n",
       "      <td>...</td>\n",
       "      <td>...</td>\n",
       "      <td>...</td>\n",
       "      <td>...</td>\n",
       "      <td>...</td>\n",
       "      <td>...</td>\n",
       "      <td>...</td>\n",
       "    </tr>\n",
       "    <tr>\n",
       "      <th>2020-06-15</th>\n",
       "      <td>1.199878</td>\n",
       "      <td>1.150990</td>\n",
       "      <td>1.839088</td>\n",
       "      <td>1.020971</td>\n",
       "      <td>1.470036</td>\n",
       "      <td>2.735630</td>\n",
       "      <td>1.854717</td>\n",
       "    </tr>\n",
       "    <tr>\n",
       "      <th>2020-06-16</th>\n",
       "      <td>1.221609</td>\n",
       "      <td>1.166584</td>\n",
       "      <td>1.887828</td>\n",
       "      <td>1.046478</td>\n",
       "      <td>1.494372</td>\n",
       "      <td>2.711418</td>\n",
       "      <td>1.900167</td>\n",
       "    </tr>\n",
       "    <tr>\n",
       "      <th>2020-06-17</th>\n",
       "      <td>1.226735</td>\n",
       "      <td>1.165990</td>\n",
       "      <td>1.885201</td>\n",
       "      <td>1.074407</td>\n",
       "      <td>1.509062</td>\n",
       "      <td>2.738087</td>\n",
       "      <td>1.906744</td>\n",
       "    </tr>\n",
       "    <tr>\n",
       "      <th>2020-06-18</th>\n",
       "      <td>1.211178</td>\n",
       "      <td>1.168020</td>\n",
       "      <td>1.885952</td>\n",
       "      <td>1.079446</td>\n",
       "      <td>1.516491</td>\n",
       "      <td>2.771686</td>\n",
       "      <td>1.927162</td>\n",
       "    </tr>\n",
       "    <tr>\n",
       "      <th>2020-06-19</th>\n",
       "      <td>1.203172</td>\n",
       "      <td>1.182129</td>\n",
       "      <td>1.875174</td>\n",
       "      <td>1.088684</td>\n",
       "      <td>1.528507</td>\n",
       "      <td>2.763238</td>\n",
       "      <td>1.915677</td>\n",
       "    </tr>\n",
       "  </tbody>\n",
       "</table>\n",
       "<p>504 rows × 7 columns</p>\n",
       "</div>"
      ],
      "text/plain": [
       "               GOOGL        FB      AAPL      NFLX      AMZN      TSLA  \\\n",
       "Date                                                                     \n",
       "2018-06-20       NaN       NaN       NaN       NaN       NaN       NaN   \n",
       "2018-06-21  0.987644  0.997525  0.994424  0.996833  0.988652  0.959389   \n",
       "2018-06-22  0.987518  0.998713  0.991528  0.986395  0.980338  0.921070   \n",
       "2018-06-25  0.962173  0.972030  0.976783  0.922545  0.950328  0.919358   \n",
       "2018-06-26  0.956548  0.985149  0.988901  0.958321  0.966293  0.944178   \n",
       "...              ...       ...       ...       ...       ...       ...   \n",
       "2020-06-15  1.199878  1.150990  1.839088  1.020971  1.470036  2.735630   \n",
       "2020-06-16  1.221609  1.166584  1.887828  1.046478  1.494372  2.711418   \n",
       "2020-06-17  1.226735  1.165990  1.885201  1.074407  1.509062  2.738087   \n",
       "2020-06-18  1.211178  1.168020  1.885952  1.079446  1.516491  2.771686   \n",
       "2020-06-19  1.203172  1.182129  1.875174  1.088684  1.528507  2.763238   \n",
       "\n",
       "                MSFT  \n",
       "Date                  \n",
       "2018-06-20       NaN  \n",
       "2018-06-21  0.992834  \n",
       "2018-06-22  0.985668  \n",
       "2018-06-25  0.965839  \n",
       "2018-06-26  0.972612  \n",
       "...              ...  \n",
       "2020-06-15  1.854717  \n",
       "2020-06-16  1.900167  \n",
       "2020-06-17  1.906744  \n",
       "2020-06-18  1.927162  \n",
       "2020-06-19  1.915677  \n",
       "\n",
       "[504 rows x 7 columns]"
      ]
     },
     "execution_count": 33,
     "metadata": {},
     "output_type": "execute_result"
    }
   ],
   "source": [
    "for a in range(thelen):\n",
    "  ticker_rx = df_stocks[[tickers[a]]].pct_change()\n",
    "  ticker_rx = (ticker_rx+1).cumprod()\n",
    "  ticker_rx2.append(ticker_rx[[tickers[a]]])\n",
    "ticker_final = pd.concat(ticker_rx2,axis=1)\n",
    "ticker_final"
   ]
  },
  {
   "cell_type": "markdown",
   "metadata": {},
   "source": [
    "makes a graph of the stocks return over time"
   ]
  },
  {
   "cell_type": "code",
   "execution_count": 34,
   "metadata": {},
   "outputs": [
    {
     "data": {
      "image/png": "[encoded data removed]",
      "text/plain": [
       "<Figure size 432x288 with 1 Axes>"
      ]
     },
     "metadata": {
      "needs_background": "light"
     },
     "output_type": "display_data"
    }
   ],
   "source": [
    "for i, col in enumerate(ticker_final.columns):\n",
    "  ticker_final[col].plot()\n",
    "plt.title('Cumulative Returns')\n",
    "plt.xticks(rotation=80)\n",
    "plt.legend(ticker_final.columns)\n",
    "#Saving the graph into a JPG file\n",
    "plt.savefig('CR.png', bbox_inches='tight')"
   ]
  },
  {
   "cell_type": "markdown",
   "metadata": {},
   "source": [
    "I believe this program could have many different uses like I said earlier it can be used for an education purpose, for a finance tracking purpose, or maybe even a predictive purpose with some added modifications to the code to track trends of certain stocks or even whole markets by tracking market indicators like the S&P 500 or the Dow jones industrial average. Or depending how it turns out I might be able to sell to a few financial institutes or banks, maybe modify it or use it as a base to make one that predicts futures, commodities, mutual funds, index funds, etc. I know it could help out our local bison fund if it does what I’m trying to get it to do.\n",
    "\n",
    "The Monte Carlo simulation helps avoid the “flaw of averages” which means that plans based on assumptions about average conditions usually go wrong. \n",
    "\n",
    "I will have to modify the original program to make it better fit my needs of course. The final product of this simulation should be a graph what shows the most unlikely extremes, some more likely good and bad outcomes, and the most likely range of outcomes right in the middle. It will be displayed on two bar graphs and one overlapping line graph to show the range of outcomes for both early and late investors to show their growth side by side.\n",
    "\n",
    "I am also considering adding two things into this project for supporting my claim. 1. I will be asking the financial advisor for some general info on the growth rates and standard deviations for a small group of investors from both early and late investor. This can be some great additional info to plug into the Monte Carlo simulation to help really prove my point. 2. I will be taking some historical data for a small handful of stocks and running the simulation on it for a certain number or years and compare how close the simulation’s outcome was to the actual data outcome in present day."
   ]
  }
 ],
 "metadata": {
  "kernelspec": {
   "display_name": "Python 3",
   "language": "python",
   "name": "python3"
  },
  "language_info": {
   "codemirror_mode": {
    "name": "ipython",
    "version": 3
   },
   "file_extension": ".py",
   "mimetype": "text/x-python",
   "name": "python",
   "nbconvert_exporter": "python",
   "pygments_lexer": "ipython3",
   "version": "3.8.3"
  }
 },
 "nbformat": 4,
 "nbformat_minor": 4
}
