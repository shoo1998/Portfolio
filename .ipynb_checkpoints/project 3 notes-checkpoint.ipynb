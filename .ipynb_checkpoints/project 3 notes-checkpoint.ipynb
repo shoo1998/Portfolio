{
 "cells": [
  {
   "cell_type": "markdown",
   "metadata": {},
   "source": [
    "sets definitions for various functions"
   ]
  },
  {
   "cell_type": "code",
   "execution_count": 1,
   "metadata": {},
   "outputs": [],
   "source": [
    "def total(list_obj):\n",
    "    total = 0\n",
    "    n = len(list_obj)\n",
    "    for i in range(n):\n",
    "        total += list_obj[i]\n",
    "    return total\n",
    "\n",
    "def mean(list_obj):\n",
    "    n = len(list_obj)\n",
    "    mean_ = total(list_obj) / n\n",
    "    return mean_\n",
    "\n",
    "def median(list_obj):\n",
    "    n = len(list_obj)\n",
    "    list_obj = sorted(list_obj)\n",
    "    #lists of even length divided by 2 have reminder 0\n",
    "    if n % 2 != 0:\n",
    "        #list length is odd\n",
    "        middle_index = int((n - 1) / 2)\n",
    "        median_ = list_obj[middle_index]\n",
    "    else:\n",
    "        upper_middle_index = int(n / 2)\n",
    "        lower_middle_index = upper_middle_index - 1\n",
    "        # pass slice with two middle values to mean()\n",
    "        median_ = mean(list_obj[lower_middle_index : upper_middle_index + 1])\n",
    "        \n",
    "    return median_\n",
    "\n",
    "def mode(list_obj):\n",
    "    # use to record value(s) that appear most times\n",
    "    max_count = 0\n",
    "    # use to count occurrences of each value in list\n",
    "    counter_dict = {}\n",
    "    for value in list_obj:\n",
    "        # count for each value should start at 0\n",
    "        counter_dict[value] = 0\n",
    "    for value in list_obj:\n",
    "        # add on to the count of the value for each occurrence in list_obj\n",
    "        counter_dict[value] += 1\n",
    "    # make a list of the value (not keys) from the dictionary\n",
    "    count_list = list(counter_dict.values())\n",
    "    # and find the max value\n",
    "    max_count = max(count_list)\n",
    "    # use a generator to make a list of the values (keys) whose number of \n",
    "    # occurences in the list match max_count\n",
    "    mode_ = [key for key in counter_dict if counter_dict[key] == max_count]\n",
    "    \n",
    "    return mode_\n",
    "\n",
    "def variance(list_obj, sample = False):\n",
    "    # popvar(list) = sum((xi - list_mean)**2) / n for all xi in list\n",
    "    # save mean value of list\n",
    "    list_mean = mean(list_obj)\n",
    "    # use n to calculate average of sum squared diffs\n",
    "    n = len(list_obj)\n",
    "    # create value we can add squared diffs to\n",
    "    sum_sq_diff = 0\n",
    "    for val in list_obj:\n",
    "        # adds each squared diff to sum_sq_diff\n",
    "        sum_sq_diff += (val - list_mean) ** 2\n",
    "    if sample == False:\n",
    "        # normalize result by dividing by n\n",
    "        variance_ = sum_sq_diff / n\n",
    "    else:\n",
    "        # for samples, normalize by dividing by (n-1)\n",
    "        variance_ = sum_sq_diff / (n - 1)\n",
    "    \n",
    "    return variance_\n",
    "\n",
    "def SD(list_obj, sample = False):\n",
    "    # Standard deviation is the square root of variance\n",
    "    SD_ = variance(list_obj, sample) ** (1/2)\n",
    "    \n",
    "    return SD_\n",
    "\n",
    "def covariance(list_obj1, list_obj2, sample = False):\n",
    "    # determine the mean of each list\n",
    "    mean1 = mean(list_obj1)\n",
    "    mean2 = mean(list_obj2)\n",
    "    # instantiate a variable holding the value of 0; this will be used to \n",
    "    # sum the values generated in the for loop below\n",
    "    cov = 0\n",
    "    n1 = len(list_obj1)\n",
    "    n2 = len(list_obj2)\n",
    "    # check list lengths are equal\n",
    "    if n1 == n2:\n",
    "        n = n1\n",
    "        # sum the product of the differences\n",
    "        for i in range(n1):\n",
    "            cov += (list_obj1[i] - mean1) * (list_obj2[i] - mean2)\n",
    "        if sample == False:\n",
    "            cov = cov / n\n",
    "        # account for sample by dividing by one less than number of elements in list\n",
    "        else:\n",
    "            cov = cov / (n - 1)\n",
    "        # return covariance\n",
    "        return cov\n",
    "    else:\n",
    "        print(\"List lengths are not equal\")\n",
    "        print(\"List1:\", n1)\n",
    "        print(\"List2:\", n2)\n",
    "    \n",
    "\n",
    "def correlation(list_obj1, list_obj2):\n",
    "    # corr(x,y) = cov(x, y) / (SD(x) * SD(y))\n",
    "    cov = covariance(list_obj1, list_obj2)\n",
    "    SD1 = SD(list_obj1)\n",
    "    SD2 = SD(list_obj2)\n",
    "    corr = cov / (SD1 * SD2)\n",
    "    return corr\n",
    "\n",
    "def skewness(list_obj, sample = False):\n",
    "    mean_ = mean(list_obj)\n",
    "    SD_ = SD(list_obj, sample)\n",
    "    skew = 0\n",
    "    n = len(list_obj)\n",
    "    for val in list_obj:\n",
    "        skew += (val - mean_) ** 3\n",
    "        skew = skew / n if not sample else n * skew / ((n - 1)*(n - 2) * SD_ ** 3)\n",
    "        \n",
    "    return skew\n",
    "\n",
    "def kurtosis(list_obj, sample = False):\n",
    "    mean_ = mean(list_obj)\n",
    "    kurt = 0\n",
    "    SD_ = SD(list_obj, sample)\n",
    "    n = len(list_obj)\n",
    "    for x in list_obj:\n",
    "        kurt += (x - mean_) ** 4\n",
    "    kurt = kurt / (n * SD_ ** 4) if not sample else  n * (n + 1) * kurt / \\\n",
    "    ((n - 1) * (n - 2) * (SD_ ** 4)) - (3 *(n - 1) ** 2) / ((n - 2) * (n - 3))\n",
    "    \n",
    "    return kurt"
   ]
  },
  {
   "cell_type": "markdown",
   "metadata": {},
   "source": [
    "creates function to gather stats of functions listed above"
   ]
  },
  {
   "cell_type": "code",
   "execution_count": 2,
   "metadata": {},
   "outputs": [],
   "source": [
    "def gather_statistics(df, sample = False):\n",
    "    dct = {key:{} for key in df}\n",
    "    for key, val in df.items():\n",
    "        # drop any missing observations from dataframe\n",
    "        val = val.dropna(axis=0)\n",
    "        dct[key][\"mean\"] = round(mean(val),3)\n",
    "        dct[key][\"median\"] = round(median(val),3)\n",
    "        # skip mode. . .         dct[key][\"mode\"] = mode(val)\n",
    "        dct[key][\"variance\"] = round(variance(val, sample),3)\n",
    "        dct[key][\"S.D.\"] = round(SD(val, sample) ,3)\n",
    "        dct[key][\"skewness\"] = round(skewness(val, sample),3)\n",
    "        dct[key][\"kurtosis\"] = round(kurtosis(val, sample),3)\n",
    "    stats_df = pd.DataFrame(dct)  \n",
    "    return stats_df"
   ]
  },
  {
   "cell_type": "markdown",
   "metadata": {},
   "source": [
    "imports daily stock data on the stocks listed in code"
   ]
  },
  {
   "cell_type": "code",
   "execution_count": 3,
   "metadata": {},
   "outputs": [
    {
     "ename": "ModuleNotFoundError",
     "evalue": "No module named 'pandas_datareader'",
     "output_type": "error",
     "traceback": [
      "\u001b[0;31m---------------------------------------------------------------------------\u001b[0m",
      "\u001b[0;31mModuleNotFoundError\u001b[0m                       Traceback (most recent call last)",
      "\u001b[0;32m<ipython-input-3-98af031bd544>\u001b[0m in \u001b[0;36m<module>\u001b[0;34m\u001b[0m\n\u001b[1;32m      1\u001b[0m \u001b[0;32mimport\u001b[0m \u001b[0mpandas\u001b[0m \u001b[0;32mas\u001b[0m \u001b[0mpd\u001b[0m\u001b[0;34m\u001b[0m\u001b[0;34m\u001b[0m\u001b[0m\n\u001b[0;32m----> 2\u001b[0;31m \u001b[0;32mimport\u001b[0m \u001b[0mpandas_datareader\u001b[0m\u001b[0;34m.\u001b[0m\u001b[0mdata\u001b[0m \u001b[0;32mas\u001b[0m \u001b[0mweb\u001b[0m\u001b[0;34m\u001b[0m\u001b[0;34m\u001b[0m\u001b[0m\n\u001b[0m\u001b[1;32m      3\u001b[0m \u001b[0;32mimport\u001b[0m \u001b[0mdatetime\u001b[0m\u001b[0;34m\u001b[0m\u001b[0;34m\u001b[0m\u001b[0m\n\u001b[1;32m      4\u001b[0m \u001b[0;34m\u001b[0m\u001b[0m\n\u001b[1;32m      5\u001b[0m \u001b[0mstart\u001b[0m \u001b[0;34m=\u001b[0m \u001b[0mdatetime\u001b[0m\u001b[0;34m.\u001b[0m\u001b[0mdatetime\u001b[0m\u001b[0;34m(\u001b[0m\u001b[0;36m2012\u001b[0m\u001b[0;34m,\u001b[0m \u001b[0;36m1\u001b[0m \u001b[0;34m,\u001b[0m \u001b[0;36m1\u001b[0m\u001b[0;34m)\u001b[0m\u001b[0;34m\u001b[0m\u001b[0;34m\u001b[0m\u001b[0m\n",
      "\u001b[0;31mModuleNotFoundError\u001b[0m: No module named 'pandas_datareader'"
     ]
    }
   ],
   "source": [
    "import pandas as pd\n",
    "import pandas_datareader.data as web\n",
    "import datetime\n",
    "\n",
    "start = datetime.datetime(2012, 1 , 1)\n",
    "end = datetime.datetime.today()\n",
    "\n",
    "data_dict = {}\n",
    "stocks = [\"MSFT\", \"AAPL\", \"FB\", \"TSLA\"]\n",
    "for key in stocks:\n",
    "    data_dict[key] = web.DataReader(key, 'yahoo', start, end)"
   ]
  },
  {
   "cell_type": "markdown",
   "metadata": {},
   "source": [
    "creates a table for stock data gathered"
   ]
  },
  {
   "cell_type": "code",
   "execution_count": null,
   "metadata": {},
   "outputs": [],
   "source": [
    "close_data = pd.concat([val[\"Close\"] for val in data_dict.values()], keys = data_dict.keys(), axis = 1)\n",
    "close_data"
   ]
  },
  {
   "cell_type": "markdown",
   "metadata": {},
   "source": [
    "creates a graph for \"closed data"
   ]
  },
  {
   "cell_type": "code",
   "execution_count": null,
   "metadata": {},
   "outputs": [],
   "source": [
    "import matplotlib.pyplot as plt\n",
    "\n",
    "# set default font size\n",
    "plt.rcParams.update({'font.size': 32})\n",
    "fig, ax = plt.subplots(figsize = (24,16))\n",
    "close_data.plot.line(ax = ax, legend = True)\n",
    "# set y axis as logged to view changes in proportional terms\n",
    "# instead of absolute terms\n",
    "ax.set_yscale(\"log\")\n",
    "# reset y labels to integer from scientific notation\n",
    "y_vals = ax.get_yticks()\n",
    "ax.set_yticklabels([int(y) if y >= 1 else round(y,1) for y in y_vals])    \n",
    "\n",
    "plt.title(\"Daily Stock Prices\")\n",
    "plt.show()\n",
    "plt.close()"
   ]
  },
  {
   "cell_type": "markdown",
   "metadata": {},
   "source": [
    "changes data from \"close_data\" to %"
   ]
  },
  {
   "cell_type": "code",
   "execution_count": null,
   "metadata": {},
   "outputs": [],
   "source": [
    "price_change_data = close_data.pct_change() * 100"
   ]
  },
  {
   "cell_type": "markdown",
   "metadata": {},
   "source": [
    "creates a chart that shows daily % change for selected stocks"
   ]
  },
  {
   "cell_type": "code",
   "execution_count": null,
   "metadata": {},
   "outputs": [],
   "source": [
    "plt.rcParams.update({'font.size': 32})\n",
    "fig, ax = plt.subplots(figsize = (24,16))\n",
    "for key in price_change_data:\n",
    "    # plot as scatter plot over time by setting marker to \".\" and ls to \"\" (blank)\n",
    "    price_change_data[key].plot.line(marker = \".\", ls=\"\", ax = ax)\n",
    "plt.legend()\n",
    "plt.title(\"Daily Price Change\")\n",
    "# set y labels to integer include %\n",
    "y_vals = ax.get_yticks()\n",
    "ax.set_yticklabels([str(int(y))+ \"%\" for y in y_vals])    \n",
    "\n",
    "plt.show()\n",
    "plt.close()"
   ]
  },
  {
   "cell_type": "markdown",
   "metadata": {},
   "source": [
    "creates a table with all results from stats functions for the selected stocks"
   ]
  },
  {
   "cell_type": "code",
   "execution_count": null,
   "metadata": {},
   "outputs": [],
   "source": [
    "stats_df = gather_statistics(price_change_data)\n",
    "stats_df"
   ]
  },
  {
   "cell_type": "markdown",
   "metadata": {},
   "source": [
    "creates a histogram (bar chart) using pandas and matplotlib for apple stock"
   ]
  },
  {
   "cell_type": "code",
   "execution_count": null,
   "metadata": {},
   "outputs": [],
   "source": [
    "fig, ax = plt.subplots(figsize = (24, 16))\n",
    "price_change_data[\"AAPL\"].hist(bins = 50, label = \"AAPL\")\n",
    "# set horizontal axis values as percent\n",
    "x_vals = ax.get_xticks()\n",
    "ax.set_xticklabels([str(int(x))+ \"%\" for x in x_vals])    \n",
    "plt.legend()"
   ]
  },
  {
   "cell_type": "markdown",
   "metadata": {},
   "source": [
    "turns the histogram into a distribution of percentages using density = \"true\""
   ]
  },
  {
   "cell_type": "code",
   "execution_count": null,
   "metadata": {},
   "outputs": [],
   "source": [
    "fig, ax = plt.subplots(figsize = (24, 16))\n",
    "price_change_data[\"AAPL\"].hist(bins = 50, label = \"AAPL\", density = True)\n",
    "# set horizontal axis values as percent\n",
    "x_vals = ax.get_xticks()\n",
    "ax.set_xticklabels([str(int(x))+ \"%\" for x in x_vals]) \n",
    "# set vertical axis values as percent\n",
    "y_vals = ax.get_yticks()\n",
    "ax.set_yticklabels([str(int(y * 100))+ \"%\" for y in y_vals]) \n",
    "\n",
    "plt.legend()"
   ]
  },
  {
   "cell_type": "markdown",
   "metadata": {},
   "source": [
    "shows all distrabutions so we can compare them"
   ]
  },
  {
   "cell_type": "code",
   "execution_count": null,
   "metadata": {},
   "outputs": [],
   "source": [
    "fig, ax = plt.subplots(2,2, figsize = (24,16))\n",
    "#for key in price_change_data:\n",
    "price_change_data.hist(bins = 50, alpha = .3, label = price_change_data.keys(), ax = ax, density = True)"
   ]
  },
  {
   "cell_type": "markdown",
   "metadata": {},
   "source": [
    "adds the stats into the plots"
   ]
  },
  {
   "cell_type": "code",
   "execution_count": null,
   "metadata": {},
   "outputs": [],
   "source": [
    "from pandas.plotting import table\n",
    "\n",
    "fig, ax = plt.subplots(2,2, figsize = (24,16))\n",
    "#for key in price_change_data:\n",
    "price_change_data.hist(bins = 50, alpha = .3, label = price_change_data.keys(), ax = ax, density = True)\n",
    "\n",
    "# plot table with summary statistics\n",
    "for i in range(len(ax)):\n",
    "    for j in range(len(ax[i])):\n",
    "        # select hist plot for each stock\n",
    "        a = ax[i][j]\n",
    "        # identify stock\n",
    "        stock = a.get_title()\n",
    "        # save summary statistics data\n",
    "        hist_data = stats_df[stock] \n",
    "        # plot summary statistics within the histogram plot\n",
    "        stats =table(a, hist_data, colWidths=[.1], cellColours=[[(.9,.9,.9)]]*6, loc = \"center right\")\n",
    "        stats.scale(1.5,3)\n",
    "        stats.auto_set_font_size(False)\n",
    "        stats.set_fontsize(20)\n",
    "        # mark the mean\n",
    "        a.axvline(x = hist_data.loc[\"mean\"], ls=\"--\")\n",
    "        # set horizontal axis values as percent\n",
    "        x_vals = a.get_xticks()\n",
    "        a.set_xticklabels([str(int(x))+ \"%\" for x in x_vals])   \n",
    "        y_vals = a.get_yticks()\n",
    "        a.set_yticklabels([str(int(y * 100))+ \"%\" for y in y_vals]) \n",
    "        # Turn of grid lines\n",
    "        a.grid(False)\n",
    "\n",
    "   \n",
    "plt.show()"
   ]
  },
  {
   "cell_type": "markdown",
   "metadata": {},
   "source": [
    "this code combines all the plots to a single graph and outlinnes where each stock is on graph"
   ]
  },
  {
   "cell_type": "code",
   "execution_count": null,
   "metadata": {},
   "outputs": [],
   "source": [
    "fig, ax = plt.subplots(figsize = (24,16))\n",
    "for key in price_change_data:\n",
    "    price_change_data[key].hist(bins = 50, histtype = \"step\", alpha = .3, label = key, linewidth = 10, density = True)\n",
    "# set horizontal axis values as percent\n",
    "x_vals = ax.get_xticks()\n",
    "ax.set_xticklabels([str(int(x))+ \"%\" for x in x_vals])    \n",
    "# set vertical axis values as percent\n",
    "y_vals = ax.get_yticks()\n",
    "ax.set_yticklabels([str(int(y * 100))+ \"%\" for y in y_vals]) \n",
    "# Include a table with the standard deviation of each stock\n",
    "stats =table(ax, stats_df.loc[\"S.D.\"], colWidths=[.1], cellColours=[[(.9,.9,.9)]]*4, loc = \"center right\")\n",
    "stats.scale(.8,4)\n",
    "stats.auto_set_font_size(False)\n",
    "stats.set_fontsize(30)\n",
    "ax.grid(False)\n",
    "\n",
    "plt.legend()"
   ]
  },
  {
   "cell_type": "markdown",
   "metadata": {},
   "source": [
    "fills in each area of the graph each stock occupies and it makes it easier to compare a small number of stocks"
   ]
  },
  {
   "cell_type": "code",
   "execution_count": null,
   "metadata": {},
   "outputs": [],
   "source": [
    "fig, ax = plt.subplots(figsize = (24,16))\n",
    "for key in price_change_data:\n",
    "    price_change_data[key].hist(bins = 50, alpha = .2, label = key, density = True)\n",
    "# set horizontal axis values as percent\n",
    "x_vals = ax.get_xticks()\n",
    "ax.set_xticklabels([str(int(x))+ \"%\" for x in x_vals])    \n",
    "# set vertical axis values as percent\n",
    "y_vals = ax.get_yticks()\n",
    "ax.set_yticklabels([str(int(y * 100))+ \"%\" for y in y_vals])\n",
    "# Include a table with the standard deviation of each stock\n",
    "stats =table(ax, stats_df.loc[\"S.D.\"], colWidths=[.1], cellColours=[[(.9,.9,.9)]]*4, loc = \"center right\")\n",
    "stats.scale(.8,4)\n",
    "stats.auto_set_font_size(False)\n",
    "stats.set_fontsize(30)\n",
    "ax.grid(False)\n",
    "\n",
    "plt.legend()"
   ]
  },
  {
   "cell_type": "code",
   "execution_count": null,
   "metadata": {},
   "outputs": [],
   "source": []
  }
 ],
 "metadata": {
  "kernelspec": {
   "display_name": "Python 3",
   "language": "python",
   "name": "python3"
  },
  "language_info": {
   "codemirror_mode": {
    "name": "ipython",
    "version": 3
   },
   "file_extension": ".py",
   "mimetype": "text/x-python",
   "name": "python",
   "nbconvert_exporter": "python",
   "pygments_lexer": "ipython3",
   "version": "3.8.3"
  }
 },
 "nbformat": 4,
 "nbformat_minor": 4
}
